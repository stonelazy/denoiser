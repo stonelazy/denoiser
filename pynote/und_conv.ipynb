{
 "cells": [
  {
   "cell_type": "code",
   "execution_count": 2,
   "metadata": {},
   "outputs": [
    {
     "name": "stderr",
     "output_type": "stream",
     "text": [
      "/home/kp/miniconda3/envs/gamd5-kp5/lib/python3.9/site-packages/tqdm/auto.py:22: TqdmWarning: IProgress not found. Please update jupyter and ipywidgets. See https://ipywidgets.readthedocs.io/en/stable/user_install.html\n",
      "  from .autonotebook import tqdm as notebook_tqdm\n"
     ]
    }
   ],
   "source": [
    "import math\n",
    "import time\n",
    "\n",
    "import torch\n",
    "from torch import nn\n",
    "from torch.nn import functional as F\n",
    "\n",
    "import math\n",
    "import time\n",
    "\n",
    "import torch\n",
    "from torch import nn\n",
    "from torch.nn import functional as F\n"
   ]
  },
  {
   "cell_type": "code",
   "execution_count": 3,
   "metadata": {},
   "outputs": [],
   "source": [
    "import math\n",
    "import time\n",
    "\n",
    "import torch\n",
    "from torch import nn\n",
    "from torch.nn import functional as F\n",
    "\n",
    "import math\n",
    "import time\n",
    "\n",
    "import torch\n",
    "from torch import nn\n",
    "from torch.nn import functional as F\n",
    "\n",
    "def diff(ta, tb):\n",
    "       print(f\"delta batch/streaming: {torch.norm(ta - tb) / torch.norm(ta):.2%}\")\n",
    "\n",
    "class Umucs:\n",
    "    def __init__(self) -> None:            \n",
    "        self.depth=3\n",
    "        self.stride_inp=4\n",
    "        \n",
    "        self.c1 = nn.Conv1d(in_channels=1, out_channels=48, kernel_size=8, stride=4)\n",
    "        self.c2 = nn.Conv1d(in_channels=48, out_channels=96, kernel_size=8, stride=4)\n",
    "        self.c3 = nn.Conv1d(in_channels=96, out_channels=192, kernel_size=8, stride=4)\n",
    "        self.encoder=nn.ModuleList()\n",
    "        \n",
    "        self.encoder.append(self.c1)\n",
    "        self.encoder.append(self.c2)\n",
    "        self.encoder.append(self.c3)\n",
    "        \n",
    "        # self.inp1= torch.randn(1,296)\n",
    "        \n",
    "        self.stride = self.stride_inp ** self.depth\n",
    "        self.frame_length= self.valid_length(1)\n",
    "\n",
    "    def get_out(self, length,depth):\n",
    "        kernel_size=8\n",
    "        stride=4\n",
    "        resample=1\n",
    "        length = math.ceil(length * resample)\n",
    "        for idx in range(depth):\n",
    "            length = math.ceil((length - kernel_size) / stride) + 1\n",
    "            length = max(length, 1)\n",
    "        return length\n",
    "\n",
    "    def get_in(self,length,depth):\n",
    "        \"\"\"\n",
    "        Determine the input_length given that we got `length` in the output.\n",
    "        \"\"\"\n",
    "        kernel_size=8\n",
    "        stride=4\n",
    "        resample=1\n",
    "        length = math.ceil(length * resample)\n",
    "        for idx in range(depth):\n",
    "            length = (length - 1) * stride + kernel_size\n",
    "        length = int(math.ceil(length / resample))\n",
    "        return int(length)\n",
    "\n",
    "    def valid_length(self,length):\n",
    "        len = self.get_out(length,self.depth)\n",
    "        return self.get_in(len,self.depth)\n",
    "    \n",
    "    def frm_zmucs(self,inp):\n",
    "        self.pending = torch.zeros(1, 0)\n",
    "        self.pending=torch.cat([self.pending,inp],dim=1)\n",
    "        inp_frames = []\n",
    "        while self.pending.shape[-1] >= self.frame_length:\n",
    "            frame = self.pending[:,:self.frame_length]\n",
    "            inp_frames.append(frame)\n",
    "            self.pending = self.pending[:,self.stride:] \n",
    "        return inp_frames           \n",
    "        \n",
    "        \n",
    "    def feed(self,inp:torch.Tensor,conv_state):\n",
    "        \n",
    "        expected_length = self.valid_length(1)\n",
    "        assert inp.shape[-1] == expected_length\n",
    "        \n",
    "        # do_predict(inp)\n",
    "        \n",
    "        return_values = [\n",
    "            inp[:,self.stride:],\n",
    "        ]\n",
    "        return return_values\n",
    "\n",
    "    def framed_inp(self,inp):\n",
    "        return inp.unfold(1,self.valid_length(1),self.stride).squeeze(0)\n",
    "    \n",
    "    def main(self,inp):\n",
    "        framed_inp = self.framed_inp(inp)\n",
    "        # zms_fr = torch.stack(self.frm_zmucs(inp)).transpose(0,1)\n",
    "        # assert torch.allclose(zms_fr,framed_inp) \n",
    "        \n",
    "        self.conv_state = []\n",
    "        \n",
    "        out = []\n",
    "        for each in framed_inp:\n",
    "            out.append(self.pred_frame(each.unsqueeze(0)))\n",
    "        \n",
    "        output = torch.stack(out).transpose(0,3).squeeze(0)\n",
    "        return output\n",
    "    \n",
    "    def pred_frame(self,frame):\n",
    "        x = frame[None]\n",
    "        \n",
    "        first = len(self.conv_state) == 0\n",
    "        \n",
    "        stride = self.stride\n",
    "        \n",
    "        next_state = []\n",
    "        for idx, encode in enumerate(self.encoder):\n",
    "            \n",
    "            stride = stride // self.stride_inp\n",
    "            length = x.shape[2]\n",
    "            \n",
    "            if not first:\n",
    "                prev = self.conv_state.pop(0)\n",
    "                prev = prev[..., stride:]\n",
    "                \n",
    "                tgt = (length - 8) // self.stride_inp + 1\n",
    "                missing = tgt - prev.shape[-1]\n",
    "                offset = length - 8 - self.stride_inp * (missing - 1)\n",
    "                x = x[..., offset:]\n",
    "            \n",
    "            x = encode(x)\n",
    "            if not first:\n",
    "                x = torch.cat([prev, x], -1)\n",
    "\n",
    "            next_state.append(x)\n",
    "        \n",
    "        self.conv_state = next_state\n",
    "        return x\n",
    "            \n",
    "umucs = Umucs()\n",
    "inp = torch.randn(1,1600)\n",
    "zmucs_frames = umucs.frm_zmucs(inp)"
   ]
  },
  {
   "cell_type": "code",
   "execution_count": 4,
   "metadata": {},
   "outputs": [
    {
     "data": {
      "text/plain": [
       "torch.Size([1, 192, 23])"
      ]
     },
     "execution_count": 4,
     "metadata": {},
     "output_type": "execute_result"
    }
   ],
   "source": [
    "online_op = umucs.main(inp)\n",
    "offl_op = umucs.c3(umucs.c2(umucs.c1(inp[None])))\n",
    "offl_op.shape,online_op.shape"
   ]
  },
  {
   "cell_type": "code",
   "execution_count": 5,
   "metadata": {},
   "outputs": [
    {
     "data": {
      "text/plain": [
       "torch.Size([1, 192, 23])"
      ]
     },
     "execution_count": 5,
     "metadata": {},
     "output_type": "execute_result"
    }
   ],
   "source": [
    "diff(offl_op,online_op)\n",
    "assert torch.allclose(offl_op,online_op,1e-6,1e-6)"
   ]
  },
  {
   "cell_type": "code",
   "execution_count": 38,
   "metadata": {},
   "outputs": [
    {
     "data": {
      "text/plain": [
       "tensor([[[    0,     1,     2,  ...,   397,   398,   399],\n",
       "         [  400,   401,   402,  ...,   797,   798,   799],\n",
       "         [  800,   801,   802,  ...,  1197,  1198,  1199],\n",
       "         ...,\n",
       "         [18000, 18001, 18002,  ..., 18397, 18398, 18399],\n",
       "         [18400, 18401, 18402,  ..., 18797, 18798, 18799],\n",
       "         [18800, 18801, 18802,  ..., 19197, 19198, 19199]]])"
      ]
     },
     "execution_count": 38,
     "metadata": {},
     "output_type": "execute_result"
    }
   ],
   "source": [
    "inc = 48\n",
    "d1 = nn.ConvTranspose1d(in_channels=inc,\n",
    "                        out_channels=1,\n",
    "                        kernel_size=8,\n",
    "                        stride=4,\n",
    "                        bias=True)\n",
    "inp2 = torch.arange(0,(inc*400))\n",
    "out2 = inp2.reshape(1,inc,-1)\n",
    "out2"
   ]
  },
  {
   "cell_type": "code",
   "execution_count": 39,
   "metadata": {},
   "outputs": [
    {
     "data": {
      "text/plain": [
       "(Conv1d(1, 48, kernel_size=(8,), stride=(4,)),\n",
       " torch.Size([1, 1600]),\n",
       " torch.Size([1, 48, 400]))"
      ]
     },
     "execution_count": 39,
     "metadata": {},
     "output_type": "execute_result"
    }
   ],
   "source": [
    "umucs.c1,inp.shape,out2.shape"
   ]
  },
  {
   "cell_type": "code",
   "execution_count": 47,
   "metadata": {},
   "outputs": [
    {
     "data": {
      "text/plain": [
       "tensor([[[ -1.2696,  -2.1556,  -3.0416,  ..., -33.1664, -34.0525, -34.9385],\n",
       "         [ -2.5909,  -3.0116,  -3.4322,  ..., -17.7342, -18.1549, -18.5755],\n",
       "         [  0.3143,   2.2094,   4.1045,  ...,  68.5379,  70.4330,  72.3281],\n",
       "         ...,\n",
       "         [  3.7187,   8.9615,  14.2043,  ..., 192.4600, 197.7028, 202.9456],\n",
       "         [ -1.2315,  -1.6450,  -2.0584,  ..., -16.1163, -16.5297, -16.9432],\n",
       "         [  4.4733,   8.1599,  11.8465,  ..., 137.1905, 140.8771, 144.5636]]],\n",
       "       grad_fn=<ConvolutionBackward0>)"
      ]
     },
     "execution_count": 47,
     "metadata": {},
     "output_type": "execute_result"
    }
   ],
   "source": [
    "inp3 = torch.arange(0,160).reshape(1,1,-1).float()\n",
    "out3=umucs.c1(inp3)\n",
    "out3"
   ]
  },
  {
   "cell_type": "code",
   "execution_count": 48,
   "metadata": {},
   "outputs": [
    {
     "data": {
      "text/plain": [
       "torch.Size([1, 48, 39])"
      ]
     },
     "execution_count": 48,
     "metadata": {},
     "output_type": "execute_result"
    }
   ],
   "source": [
    "out3.shape"
   ]
  }
 ],
 "metadata": {
  "kernelspec": {
   "display_name": "Python 3.8.13 ('demucs')",
   "language": "python",
   "name": "python3"
  },
  "language_info": {
   "codemirror_mode": {
    "name": "ipython",
    "version": 3
   },
   "file_extension": ".py",
   "mimetype": "text/x-python",
   "name": "python",
   "nbconvert_exporter": "python",
   "pygments_lexer": "ipython3",
   "version": "3.9.16"
  },
  "orig_nbformat": 4,
  "vscode": {
   "interpreter": {
    "hash": "ed0e1a280e35a7d6c04ad96f8b2900089741063950793d1d8ae5eeb32fb52fd2"
   }
  }
 },
 "nbformat": 4,
 "nbformat_minor": 2
}
